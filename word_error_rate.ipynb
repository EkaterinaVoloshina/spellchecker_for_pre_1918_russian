{
  "nbformat": 4,
  "nbformat_minor": 0,
  "metadata": {
    "colab": {
      "name": "word error rate.ipynb",
      "provenance": [],
      "authorship_tag": "ABX9TyPHzYaYxgZx/Zw6A6GKIbzc",
      "include_colab_link": true
    },
    "kernelspec": {
      "name": "python3",
      "display_name": "Python 3"
    },
    "language_info": {
      "name": "python"
    }
  },
  "cells": [
    {
      "cell_type": "markdown",
      "metadata": {
        "id": "view-in-github",
        "colab_type": "text"
      },
      "source": [
        "<a href=\"https://colab.research.google.com/github/EkaterinaVoloshina/spellchecker_for_pre_1918_russian/blob/main/word_error_rate.ipynb\" target=\"_parent\"><img src=\"https://colab.research.google.com/assets/colab-badge.svg\" alt=\"Open In Colab\"/></a>"
      ]
    },
    {
      "cell_type": "code",
      "metadata": {
        "colab": {
          "base_uri": "https://localhost:8080/"
        },
        "id": "YwGzoutJ-SOz",
        "outputId": "94171622-1f8d-4346-cf7a-8f17d647858d"
      },
      "source": [
        "from google.colab import drive\n",
        "\n",
        "drive.mount('/content/drive')"
      ],
      "execution_count": 1,
      "outputs": [
        {
          "output_type": "stream",
          "text": [
            "Mounted at /content/drive\n"
          ],
          "name": "stdout"
        }
      ]
    },
    {
      "cell_type": "code",
      "metadata": {
        "colab": {
          "base_uri": "https://localhost:8080/"
        },
        "id": "DAqsdduM-YLz",
        "outputId": "2ee9a04c-3d6e-41a1-e1bf-94e53c401c39"
      },
      "source": [
        "! unzip drive/MyDrive/corpus_oz_docx.zip\n",
        "! git clone https://github.com/dhhse/Otechestvennie_zapiski"
      ],
      "execution_count": 2,
      "outputs": [
        {
          "output_type": "stream",
          "text": [
            "Archive:  drive/MyDrive/corpus_oz_docx.zip\n",
            "   creating: corpus_oz_docx/\n",
            "  inflating: corpus_oz_docx/том33.docx  \n",
            "  inflating: corpus_oz_docx/том17.docx  \n",
            "  inflating: corpus_oz_docx/том23_7.docx  \n",
            "  inflating: corpus_oz_docx/том24.docx  \n",
            "  inflating: corpus_oz_docx/том49.docx  \n",
            "  inflating: corpus_oz_docx/том25.docx  \n",
            "  inflating: corpus_oz_docx/том14.docx  \n",
            "  inflating: corpus_oz_docx/том13.docx  \n",
            "  inflating: corpus_oz_docx/том18.docx  \n",
            "  inflating: corpus_oz_docx/том10.docx  \n",
            "Cloning into 'Otechestvennie_zapiski'...\n",
            "remote: Enumerating objects: 337, done.\u001b[K\n",
            "remote: Counting objects: 100% (75/75), done.\u001b[K\n",
            "remote: Compressing objects: 100% (72/72), done.\u001b[K\n",
            "remote: Total 337 (delta 31), reused 0 (delta 0), pack-reused 262\u001b[K\n",
            "Receiving objects: 100% (337/337), 229.02 MiB | 25.83 MiB/s, done.\n",
            "Resolving deltas: 100% (109/109), done.\n",
            "Checking out files: 100% (113/113), done.\n"
          ],
          "name": "stdout"
        }
      ]
    },
    {
      "cell_type": "code",
      "metadata": {
        "colab": {
          "base_uri": "https://localhost:8080/"
        },
        "id": "ZAI8aDsA-Yyc",
        "outputId": "7bc7cdc2-74b4-446d-ac17-385ddaa0f185"
      },
      "source": [
        "! pip install python-docx\n",
        "! pip install bs4\n",
        "! pip install jiwer"
      ],
      "execution_count": 3,
      "outputs": [
        {
          "output_type": "stream",
          "text": [
            "Collecting python-docx\n",
            "\u001b[?25l  Downloading https://files.pythonhosted.org/packages/8b/a0/52729ce4aa026f31b74cc877be1d11e4ddeaa361dc7aebec148171644b33/python-docx-0.8.11.tar.gz (5.6MB)\n",
            "\u001b[K     |████████████████████████████████| 5.6MB 2.8MB/s \n",
            "\u001b[?25hRequirement already satisfied: lxml>=2.3.2 in /usr/local/lib/python3.7/dist-packages (from python-docx) (4.2.6)\n",
            "Building wheels for collected packages: python-docx\n",
            "  Building wheel for python-docx (setup.py) ... \u001b[?25l\u001b[?25hdone\n",
            "  Created wheel for python-docx: filename=python_docx-0.8.11-cp37-none-any.whl size=184602 sha256=95002ddd9acb920d833d4c01a20ee5809851b800b47a9a43476862d122920553\n",
            "  Stored in directory: /root/.cache/pip/wheels/a6/90/f1/a7cb70b38633ae04e7fb963b1c70f63fd6fc01c075b8230adc\n",
            "Successfully built python-docx\n",
            "Installing collected packages: python-docx\n",
            "Successfully installed python-docx-0.8.11\n",
            "Requirement already satisfied: bs4 in /usr/local/lib/python3.7/dist-packages (0.0.1)\n",
            "Requirement already satisfied: beautifulsoup4 in /usr/local/lib/python3.7/dist-packages (from bs4) (4.6.3)\n",
            "Collecting jiwer\n",
            "  Downloading https://files.pythonhosted.org/packages/8c/cc/fb9d3132cba1f6d393b7d5a9398d9d4c8fc033bc54668cf87e9b197a6d7a/jiwer-2.2.0-py3-none-any.whl\n",
            "Collecting python-Levenshtein\n",
            "\u001b[?25l  Downloading https://files.pythonhosted.org/packages/2a/dc/97f2b63ef0fa1fd78dcb7195aca577804f6b2b51e712516cc0e902a9a201/python-Levenshtein-0.12.2.tar.gz (50kB)\n",
            "\u001b[K     |████████████████████████████████| 51kB 1.8MB/s \n",
            "\u001b[?25hRequirement already satisfied: numpy in /usr/local/lib/python3.7/dist-packages (from jiwer) (1.19.5)\n",
            "Requirement already satisfied: setuptools in /usr/local/lib/python3.7/dist-packages (from python-Levenshtein->jiwer) (56.1.0)\n",
            "Building wheels for collected packages: python-Levenshtein\n",
            "  Building wheel for python-Levenshtein (setup.py) ... \u001b[?25l\u001b[?25hdone\n",
            "  Created wheel for python-Levenshtein: filename=python_Levenshtein-0.12.2-cp37-cp37m-linux_x86_64.whl size=149822 sha256=f53b28f03620bab8e3915dc57e8bd9b6ba3a718f8a903cd83cae318dc0cf7255\n",
            "  Stored in directory: /root/.cache/pip/wheels/b3/26/73/4b48503bac73f01cf18e52cd250947049a7f339e940c5df8fc\n",
            "Successfully built python-Levenshtein\n",
            "Installing collected packages: python-Levenshtein, jiwer\n",
            "Successfully installed jiwer-2.2.0 python-Levenshtein-0.12.2\n"
          ],
          "name": "stdout"
        }
      ]
    },
    {
      "cell_type": "code",
      "metadata": {
        "id": "PSfd_q9c-a-3"
      },
      "source": [
        "from bs4 import BeautifulSoup\n",
        "from jiwer import wer"
      ],
      "execution_count": 4,
      "outputs": []
    },
    {
      "cell_type": "code",
      "metadata": {
        "id": "28otoa0e-j7y"
      },
      "source": [
        "from docx import Document\n",
        "def getText(filename):\n",
        "    doc = Document(filename)\n",
        "    fullText = []\n",
        "    for para in doc.paragraphs:\n",
        "        fullText.append(para.text)\n",
        "    return '\\n'.join(fullText)"
      ],
      "execution_count": 5,
      "outputs": []
    },
    {
      "cell_type": "markdown",
      "metadata": {
        "id": "Hgk8nO9o_D1-"
      },
      "source": [
        "Open the document without typos:"
      ]
    },
    {
      "cell_type": "code",
      "metadata": {
        "id": "75BHwTf1-m9v"
      },
      "source": [
        "d = open('Otechestvennie_zapiski/corpus_Otechestvennye_zapiski/volume_49.xml').read()\n",
        "text_49 = getText('corpus_oz_docx/том49.docx').replace('\\n', '')"
      ],
      "execution_count": 6,
      "outputs": []
    },
    {
      "cell_type": "markdown",
      "metadata": {
        "id": "9A1WSrYM_II1"
      },
      "source": [
        "Open the raw document:"
      ]
    },
    {
      "cell_type": "code",
      "metadata": {
        "id": "MPr7Irz0-vWQ"
      },
      "source": [
        "soup = BeautifulSoup(d, 'xml')\n",
        "xml_49 = soup.find_all(text=True)\n",
        "xml_49 = ''.join(xml_49).replace('\\n', '')"
      ],
      "execution_count": 7,
      "outputs": []
    },
    {
      "cell_type": "markdown",
      "metadata": {
        "id": "oq0VeELd-_4V"
      },
      "source": [
        "Word error rate:"
      ]
    },
    {
      "cell_type": "code",
      "metadata": {
        "colab": {
          "base_uri": "https://localhost:8080/"
        },
        "id": "clVsaUV6-0l6",
        "outputId": "5a0d82bc-b9d5-4440-fbfb-72435a1e5242"
      },
      "source": [
        "wer(xml_49[:100000], text_49[:100000])"
      ],
      "execution_count": 10,
      "outputs": [
        {
          "output_type": "execute_result",
          "data": {
            "text/plain": [
              "0.19756466604222206"
            ]
          },
          "metadata": {
            "tags": []
          },
          "execution_count": 10
        }
      ]
    }
  ]
}